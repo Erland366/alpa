{
 "cells": [
  {
   "cell_type": "code",
   "execution_count": 1,
   "metadata": {},
   "outputs": [],
   "source": [
    "import numpy as np"
   ]
  },
  {
   "cell_type": "code",
   "execution_count": 41,
   "metadata": {},
   "outputs": [],
   "source": [
    "from typing import Union, Optional, List, Tuple, Set, Dict\n",
    "\n",
    "allocation_matrix: Dict[str, np.ndarray] = {}\n",
    "all_host_num_devices = np.array([4, 4, 4, 4])"
   ]
  },
  {
   "cell_type": "code",
   "execution_count": 43,
   "metadata": {},
   "outputs": [],
   "source": [
    "allocation_matrix[\"1\"] = np.array([2, 2, 0, 0])\n",
    "allocation_matrix[\"2\"] = np.array([0, 0, 4, 4])"
   ]
  },
  {
   "cell_type": "code",
   "execution_count": 48,
   "metadata": {},
   "outputs": [],
   "source": [
    "used_resources = np.zeros(all_host_num_devices.shape, dtype=int)\n",
    "\n",
    "for allocation_vector in list(allocation_matrix.values()):\n",
    "    used_resources += allocation_vector\n",
    "\n",
    "free_resources = all_host_num_devices - used_resources"
   ]
  },
  {
   "cell_type": "code",
   "execution_count": 49,
   "metadata": {},
   "outputs": [
    {
     "data": {
      "text/plain": [
       "(array([2, 2, 4, 4]), array([2, 2, 0, 0]))"
      ]
     },
     "execution_count": 49,
     "metadata": {},
     "output_type": "execute_result"
    }
   ],
   "source": [
    "used_resources, free_resources"
   ]
  },
  {
   "cell_type": "code",
   "execution_count": 47,
   "metadata": {},
   "outputs": [
    {
     "data": {
      "text/plain": [
       "dtype('float64')"
      ]
     },
     "execution_count": 47,
     "metadata": {},
     "output_type": "execute_result"
    }
   ],
   "source": [
    "used_resources.dtype"
   ]
  },
  {
   "cell_type": "code",
   "execution_count": 51,
   "metadata": {},
   "outputs": [
    {
     "name": "stdout",
     "output_type": "stream",
     "text": [
      "0 2\n",
      "1 2\n",
      "2 4\n",
      "3 4\n"
     ]
    }
   ],
   "source": [
    "for i, r in enumerate(used_resources):\n",
    "    print(i, r)"
   ]
  }
 ],
 "metadata": {
  "kernelspec": {
   "display_name": "alpa-adaptdl",
   "language": "python",
   "name": "python3"
  },
  "language_info": {
   "codemirror_mode": {
    "name": "ipython",
    "version": 3
   },
   "file_extension": ".py",
   "mimetype": "text/x-python",
   "name": "python",
   "nbconvert_exporter": "python",
   "pygments_lexer": "ipython3",
   "version": "3.8.18"
  }
 },
 "nbformat": 4,
 "nbformat_minor": 2
}
